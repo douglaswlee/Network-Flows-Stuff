{
 "cells": [
  {
   "cell_type": "markdown",
   "metadata": {},
   "source": [
    "## Minimum Spanning Tree Algorithm Exploration"
   ]
  },
  {
   "cell_type": "markdown",
   "metadata": {},
   "source": [
    "This notebook will illustrate the application of both [Prim's Algorithm](https://en.wikipedia.org/wiki/Prim%27s_algorithm) and [Kruskal's Algorithm](https://en.wikipedia.org/wiki/Kruskal%27s_algorithm) to solving the [Minimum Spanning Tree](https://en.wikipedia.org/wiki/Minimum_spanning_tree) problem for undirected network graphs (networks). First, we'll show how to represent undirected networks using both adjacency matrices and edge lists (as well as switching between the two representations), then we'll work through both Prim and Kruskal for each representation using the same example undirected network.\n",
    "\n",
    "Let's start with our imports which include functions from `network_flows.py` which convert an adjacency matrix to an edge list and vice versa: "
   ]
  },
  {
   "cell_type": "code",
   "execution_count": 1,
   "metadata": {},
   "outputs": [],
   "source": [
    "import numpy as np\n",
    "import matplotlib.pyplot as plt\n",
    "from copy import copy\n",
    "import itertools\n",
    "import networkx as nx\n",
    "from network_flows import *"
   ]
  },
  {
   "cell_type": "markdown",
   "metadata": {},
   "source": [
    "### Preliminaries"
   ]
  },
  {
   "cell_type": "markdown",
   "metadata": {},
   "source": [
    "Our example network is the same as the example provided [here](https://en.wikipedia.org/wiki/Kruskal%27s_algorithm#Example), only we'll be replacing the vertices labeled A through G with vertices labeled 0 through 6.\n",
    "\n",
    "We'll create an adjacency matrix by initializing an 7x7 `numpy` array of zeros (we will assume there are no zero-weight edges) where the value in i-th row and j-th column represents an edge between vertex i and vertex j. We then populate the matrix with the values of edge weights, and then \"symmetrize\" it (since in an undirected network if the edge (0,1) between vertices 0 and 1 exists then the edge (1,0) also exists) by adding the initially populated adjacency matrix to its transpose's lower triangualar matrix."
   ]
  },
  {
   "cell_type": "code",
   "execution_count": 2,
   "metadata": {},
   "outputs": [
    {
     "name": "stdout",
     "output_type": "stream",
     "text": [
      "True\n"
     ]
    },
    {
     "data": {
      "text/plain": [
       "array([[ 0.,  7.,  0.,  5.,  0.,  0.,  0.],\n",
       "       [ 7.,  0.,  8.,  9.,  7.,  0.,  0.],\n",
       "       [ 0.,  8.,  0.,  0.,  5.,  0.,  0.],\n",
       "       [ 5.,  9.,  0.,  0., 15.,  6.,  0.],\n",
       "       [ 0.,  7.,  5., 15.,  0.,  8.,  9.],\n",
       "       [ 0.,  0.,  0.,  6.,  8.,  0., 11.],\n",
       "       [ 0.,  0.,  0.,  0.,  9., 11.,  0.]])"
      ]
     },
     "execution_count": 2,
     "metadata": {},
     "output_type": "execute_result"
    }
   ],
   "source": [
    "# initialize adj matrix as 7x7 array of zeros\n",
    "adj = np.zeros([7,7])\n",
    "\n",
    "# populate adj matrix with edges and their weights\n",
    "adj[0][1] = 7\n",
    "adj[0][3] = 5\n",
    "adj[1][2] = 8\n",
    "adj[1][3] = 9\n",
    "adj[1][4] = 7\n",
    "adj[2][4] = 5\n",
    "adj[3][4] = 15\n",
    "adj[3][5] = 6\n",
    "adj[4][5] = 8\n",
    "adj[4][6] = 9\n",
    "adj[5][6] = 11\n",
    "\n",
    "# make symmetric and check if symmetric\n",
    "adj = adj + np.tril(adj.T)\n",
    "print(np.allclose(adj, adj.T, rtol=1e-6, atol=1e-6))\n",
    "adj"
   ]
  },
  {
   "cell_type": "markdown",
   "metadata": {},
   "source": [
    "Now we'll create the list of vertices (really just the numbers 0 through 6) and use the function `make_edgelist_from_adjmatrix` from `network_flows.py` to create the an edge list from our adjacency matrix `adj`. The edge list is a dictionary where the keys are the pair of vertices connected by the edge and the values are the weights of each edge. Note that the edge list includes each edge only once (i.e., only ordered by lower-numbered vertex first but not the reverse)."
   ]
  },
  {
   "cell_type": "code",
   "execution_count": 3,
   "metadata": {},
   "outputs": [
    {
     "data": {
      "text/plain": [
       "{(0, 1): 7.0,\n",
       " (0, 3): 5.0,\n",
       " (1, 2): 8.0,\n",
       " (1, 3): 9.0,\n",
       " (1, 4): 7.0,\n",
       " (2, 4): 5.0,\n",
       " (3, 4): 15.0,\n",
       " (3, 5): 6.0,\n",
       " (4, 5): 8.0,\n",
       " (4, 6): 9.0,\n",
       " (5, 6): 11.0}"
      ]
     },
     "execution_count": 3,
     "metadata": {},
     "output_type": "execute_result"
    }
   ],
   "source": [
    "vertices = list(range(len(adj)))\n",
    "edges = make_edgelist_from_adjmatrix(adj, directed=False)\n",
    "edges"
   ]
  },
  {
   "cell_type": "markdown",
   "metadata": {},
   "source": [
    "Let's now use `NetworkX` to draw this network graph so we have a visualization of it within this notebook to reference:"
   ]
  },
  {
   "cell_type": "code",
   "execution_count": 4,
   "metadata": {
    "scrolled": true
   },
   "outputs": [
    {
     "data": {
      "image/png": "[encoded data removed]",
      "text/plain": [
       "<Figure size 432x288 with 1 Axes>"
      ]
     },
     "metadata": {},
     "output_type": "display_data"
    }
   ],
   "source": [
    "# Create graph object and populate edges (and by extension vertices/nodes) from our edgelist \n",
    "G1 = nx.Graph()\n",
    "G1.add_weighted_edges_from([(k[0], k[1], v) for k,v in edges.items()])\n",
    "\n",
    "# Specify positions of each node we will use to draw the network graph\n",
    "G1.nodes[0]['pos'] = (0, 3)\n",
    "G1.nodes[1]['pos'] = (-3, 0)\n",
    "G1.nodes[2]['pos'] = (-3, -3)\n",
    "G1.nodes[3]['pos'] = (0, 0)\n",
    "G1.nodes[4]['pos'] = (0, -3)\n",
    "G1.nodes[5]['pos'] = (3, 0)\n",
    "G1.nodes[6]['pos'] = [3, -3]\n",
    "\n",
    "# Draw the network (first its topology, then vertex and vertex labels, then edge labels)\n",
    "node_pos = nx.get_node_attributes(G1,'pos')\n",
    "edge_weight = nx.get_edge_attributes(G1, 'weight')\n",
    "nx.draw(G1, node_pos, node_color='white')\n",
    "nx.draw_networkx_nodes(G1, node_pos, node_color='white', node_size=1000, edgecolors='black')\n",
    "nx.draw_networkx_labels(G1, node_pos)\n",
    "nx.draw_networkx_edge_labels(G1, node_pos, edge_labels=edge_weight)\n",
    "plt.ylim([-3.5, 3.5])\n",
    "plt.axis('off')\n",
    "plt.show()"
   ]
  },
  {
   "cell_type": "markdown",
   "metadata": {},
   "source": [
    "### Kruskal's Algorithm"
   ]
  },
  {
   "cell_type": "markdown",
   "metadata": {},
   "source": [
    "Now we define functions to carry out Kruskal's algorithm with a network represented first as an edgelist, then as an adjacency matrix.\n",
    "\n",
    "Kruskal's algorithm begins with the full set of edges and each vertex treated as isolated in its own \"tree,\" with an empty collection of edges or \"forest\" connecting the vertices. While there are still edges to evaluate and we have not connected all vertices (we do not have a collection of edges that are spanning), we remove the minimum weight edge at each iteration and add it to the \"forest\" if it connects two trees (which become part of the same tree). Once we have a spanning collection of edges or have run out of edges, we terminate and either return a minimum spanning tree (if the edges connect all the vertices) or have an unconnected network.\n",
    "\n",
    "To help implement this we create a dictionary mapping each vertex (which we assume has a numerical value) to its current \"tree.\" When we add an edge (i,j), the two vertices i and j, as well as any other vertex in the same tree as either i or j, are then mapped to the same \"tree\" which takes on the value of the lower-numbered vertex. For now, we assume the input network is connected.\n",
    "\n",
    "The main differences between the edge list and adjacency matrix implementations are:\n",
    "\n",
    "* We know we have run out of edges when the edge list is empty, while we need the adjacency matrix will need to be all zeros again\n",
    "* We find the minimum weight edge by simply finding the minimum value weight in the edge list, but in the adjacency matrix we need to ignore all zero entries\n",
    "* When we remove an edge, we simply remove it from the edge list, while we must zero out the weights in the adjacency matrix for the edge (in both directions) to \"remove\" it"
   ]
  },
  {
   "cell_type": "markdown",
   "metadata": {},
   "source": [
    "We first evaluate our network using the edge list version of Kruskal's algorithm:"
   ]
  },
  {
   "cell_type": "code",
   "execution_count": 5,
   "metadata": {},
   "outputs": [],
   "source": [
    "def kruskal_edgelist(edges, vertices):\n",
    "    '''\n",
    "        Given:\n",
    "            edges, an edge list dictionary\n",
    "            vertices, a list of numbers corresponding to vertices\n",
    "        Return:\n",
    "            mst, a spanning collection of edges (i.e., the edges of the minimum spanning tree)\n",
    "            mst_weight, the total weight of the minimum spanning tree\n",
    "    '''\n",
    "    \n",
    "    # initialize set of edges\n",
    "    edge_list = edges.copy()\n",
    "    \n",
    "    # initialize set of trees (each vertex is its own tree), the minimum spanning tree as empty with zero cost\n",
    "    F = {k: k for k in vertices}\n",
    "    mst = []\n",
    "    mst_weight = 0\n",
    "    \n",
    "    # while not spanning and non-empty set of edges:\n",
    "    while (len(mst) < len(vertices)-1) & bool(edge_list):\n",
    "        # find min weight edge\n",
    "        min_weight_edge = min(edge_list, key=edge_list.get)\n",
    "        \n",
    "        # check if min weight edge connects two distinct trees\n",
    "        if F[min_weight_edge[0]] != F[min_weight_edge[1]]:\n",
    "            \n",
    "            # combine the trees, now numbered by lower-number vertex in edge\n",
    "            set_collapse = max(F[min_weight_edge[0]], F[min_weight_edge[1]])\n",
    "            for k in F.keys():\n",
    "                if F[k] == set_collapse:\n",
    "                    F[k] = min(F[min_weight_edge[0]], F[min_weight_edge[1]])\n",
    "            \n",
    "            # add to \"spanning tree\" being built\n",
    "            mst_weight += edge_list[min_weight_edge]\n",
    "            mst.append(min_weight_edge)\n",
    "        \n",
    "        # remove min weight edge whether added or not\n",
    "        edge_list.pop(min_weight_edge)\n",
    "        \n",
    "    return mst, mst_weight"
   ]
  },
  {
   "cell_type": "code",
   "execution_count": 11,
   "metadata": {},
   "outputs": [
    {
     "name": "stdout",
     "output_type": "stream",
     "text": [
      "[(0, 3), (2, 4), (3, 5), (0, 1), (1, 4), (4, 6)]\n",
      "39.0\n"
     ]
    }
   ],
   "source": [
    "mst_kruskal1, mst_kruskal_weight1 = kruskal_edgelist(edges, vertices)\n",
    "print(mst_kruskal1)\n",
    "print(mst_kruskal_weight1)"
   ]
  },
  {
   "cell_type": "markdown",
   "metadata": {},
   "source": [
    "Now for the adjacency matrix version of Kruskal's algorithm:"
   ]
  },
  {
   "cell_type": "code",
   "execution_count": 12,
   "metadata": {},
   "outputs": [],
   "source": [
    "def kruskal_adjmatrix(adj):\n",
    "    '''\n",
    "        Given:\n",
    "            adj, an adjacency matrix for an undirected network\n",
    "        Return:\n",
    "            mst, a spanning collection of edges (i.e., the edges of the minimum spanning tree)\n",
    "            mst_weight, the total weight of the minimum spanning tree\n",
    "    '''\n",
    "    \n",
    "    # initialize \"set of edges\"\n",
    "    adj_matrix = adj.copy()\n",
    "    \n",
    "    # initialize set of trees (each vertex is its own tree), the minimum spanning tree as empty with zero cost\n",
    "    vertices = list(range(len(adj_matrix)))\n",
    "    F = {k: k for k in vertices}\n",
    "    mst = []\n",
    "    mst_weight = 0\n",
    "    \n",
    "    # while not spanning and non-empty set of edges:\n",
    "    while (len(mst) < len(vertices)-1) & (not np.all(adj_matrix==0)):\n",
    "        # find min weight edge\n",
    "        min_weight_edge = np.unravel_index(np.where(adj_matrix != 0, adj_matrix, np.inf).argmin(), adj_matrix.shape)\n",
    "        \n",
    "        # check if min weight edge connects two distinct trees\n",
    "        if F[min_weight_edge[0]] != F[min_weight_edge[1]]:\n",
    "            \n",
    "            # combine the trees, now numbered by lower-number vertex in edge\n",
    "            set_collapse = max(F[min_weight_edge[0]], F[min_weight_edge[1]])\n",
    "            for k in F.keys():\n",
    "                if F[k] == set_collapse:\n",
    "                    F[k] = min(F[min_weight_edge[0]], F[min_weight_edge[1]])\n",
    "            \n",
    "            # add to \"spanning tree\" being built\n",
    "            mst_weight += adj_matrix[min_weight_edge[0], min_weight_edge[1]]\n",
    "            mst.append(min_weight_edge)\n",
    "        \n",
    "        # \"remove\" min weight edge whether added or not\n",
    "        adj_matrix[min_weight_edge[0], min_weight_edge[1]] = 0\n",
    "        adj_matrix[min_weight_edge[1], min_weight_edge[0]] = 0\n",
    "    \n",
    "    return mst, mst_weight"
   ]
  },
  {
   "cell_type": "code",
   "execution_count": 14,
   "metadata": {},
   "outputs": [
    {
     "name": "stdout",
     "output_type": "stream",
     "text": [
      "[(0, 3), (2, 4), (3, 5), (0, 1), (1, 4), (4, 6)]\n",
      "39.0\n"
     ]
    }
   ],
   "source": [
    "mst_kruskal2, mst_kruskal_weight2 = kruskal_adjmatrix(adj)\n",
    "print(mst_kruskal2)\n",
    "print(mst_kruskal_weight2)"
   ]
  },
  {
   "cell_type": "markdown",
   "metadata": {},
   "source": [
    "We see that we have the same solution using either an edge list or adjacency matrix to represent the network. Let's check with what we get using `minimum_spanning_tree` from `NetworkX`:"
   ]
  },
  {
   "cell_type": "code",
   "execution_count": 15,
   "metadata": {},
   "outputs": [
    {
     "name": "stdout",
     "output_type": "stream",
     "text": [
      "[(0, 3), (0, 1), (1, 4), (3, 5), (2, 4), (4, 6)]\n"
     ]
    }
   ],
   "source": [
    "mst_nx = nx.minimum_spanning_tree(G1)\n",
    "print(mst_nx.edges())"
   ]
  },
  {
   "cell_type": "markdown",
   "metadata": {},
   "source": [
    "Looks like the same exact solution. Let's draw the minimum spanning tree onto the original network graph:"
   ]
  },
  {
   "cell_type": "code",
   "execution_count": 18,
   "metadata": {},
   "outputs": [
    {
     "data": {
      "image/png": "[encoded data removed]",
      "text/plain": [
       "<Figure size 432x288 with 1 Axes>"
      ]
     },
     "metadata": {},
     "output_type": "display_data"
    }
   ],
   "source": [
    "node_pos = nx.get_node_attributes(G1,'pos')\n",
    "edge_weight = nx.get_edge_attributes(G1, 'weight')\n",
    "nx.draw(G1, node_pos, node_color='white', edge_color=['red' if e in mst_nx.edges() else 'black' for e in G1.edges()])\n",
    "nx.draw_networkx_nodes(G1, node_pos, node_color='white', node_size=1000, edgecolors='black')\n",
    "nx.draw_networkx_labels(G1, node_pos)\n",
    "nx.draw_networkx_edge_labels(G1, node_pos, edge_labels=edge_weight)\n",
    "plt.ylim([-3.5, 3.5])\n",
    "plt.axis('off')\n",
    "plt.show()"
   ]
  },
  {
   "cell_type": "markdown",
   "metadata": {},
   "source": [
    "### Prim's Algorithm"
   ]
  },
  {
   "cell_type": "markdown",
   "metadata": {},
   "source": [
    "We'll define functions to carry out Prim's algorithm, again with a network represented first as an edgelist, then as an adjacency matrix.\n",
    "\n",
    "In Prim's algorithm, we initialize the set of edges and vertices, as well as an empty tree. We start by selecting at random one vertex to initialize the tree. While there are still vertices to add, we find the minimum weight edge which connects the vertices in the tree to a vertex not in the tree. We add this edge and the associated vertex to the tree. Once we have added all vertices, then the algorithm terminates and we return the minimum spanning tree (again we assume that our input network, whether represented as an edge list or adjacency matrix, is connected). At each stage of the algorithm, we remove not just the minimum weight edge but also all the edges that connect vertices in the tree to the vertex that is about to be added.\n",
    "\n",
    "The main differences between the edge list and adjacency matrix implementations are in the selection of the minimum weight edge and the removal of edges. With an edge list, we only need to find the minimum value weight in the edge; in an adjacency matrix, we need to use the rows of the matrix corresponding to the vertices in the current tree and then find the minimum non-zero value. As in Kruskal's algorithm, when we remove an edge, we simply remove it from the edge list, while we must zero out the weights in the adjacency matrix for the edge (in both directions) to \"remove\" it.\n",
    "\n",
    "Now let's first evaluate the edge list implementation of Prim's algorithm:"
   ]
  },
  {
   "cell_type": "code",
   "execution_count": 19,
   "metadata": {},
   "outputs": [],
   "source": [
    "def prim_edgelist(edges, vertices):\n",
    "    '''\n",
    "        Given:\n",
    "            edges, an edge list dictionary\n",
    "            vertices, a list of numbers corresponding to vertices\n",
    "        Return:\n",
    "            mst, a spanning collection of edges (i.e., the edges of the minimum spanning tree)\n",
    "            mst_weight, the total weight of the minimum spanning tree\n",
    "    '''\n",
    "        \n",
    "    # initialize set of edges and vertices\n",
    "    edge_list = edges.copy()\n",
    "    verts = vertices.copy()\n",
    "    \n",
    "    # initialize tree vertices and edges as empty and with zero weight\n",
    "    F = []\n",
    "    mst = []\n",
    "    mst_weight = 0\n",
    "    \n",
    "    # select at random an initial vertex to remove and then add to the tree\n",
    "    init_vert = np.random.choice(verts,1)[0]\n",
    "    F.append(init_vert)\n",
    "    verts.remove(init_vert)\n",
    "    \n",
    "    # while there are still vertices to remove and then add to the tree\n",
    "    while verts:\n",
    "        # find the minimum weight edge to a vertex outside the current tree, add it to the tree and remove from vertex set\n",
    "        min_weight_edge = min({k:v for t in F for k, v in edge_list.items() if t in k}, key=edge_list.get)\n",
    "        F.extend([min_weight_edge[0], min_weight_edge[1]])\n",
    "        verts = set(verts).difference(set(F))\n",
    "        F = list(set(F))\n",
    "        \n",
    "        # add minimum weight edge to tree\n",
    "        mst.append(min_weight_edge)\n",
    "        mst_weight += edge_list[min_weight_edge]\n",
    "        \n",
    "        # remove minimum weight edge, and all edges connecting current tree to added vertex, from list of edges \n",
    "        mst_poss_edges = itertools.combinations(F, 2)\n",
    "        for edge in mst_poss_edges:\n",
    "            try:\n",
    "                edge_list.pop(edge)\n",
    "            except:\n",
    "                continue\n",
    "                \n",
    "    return mst, mst_weight"
   ]
  },
  {
   "cell_type": "code",
   "execution_count": 21,
   "metadata": {},
   "outputs": [
    {
     "name": "stdout",
     "output_type": "stream",
     "text": [
      "[(2, 4), (1, 4), (0, 1), (0, 3), (3, 5), (4, 6)]\n",
      "39.0\n"
     ]
    }
   ],
   "source": [
    "mst_prim1, mst_prim_weight1 = prim_edgelist(edges, vertices)\n",
    "print(mst_prim1)\n",
    "print(mst_prim_weight1)"
   ]
  },
  {
   "cell_type": "markdown",
   "metadata": {},
   "source": [
    "This matches up with what we got using Kruskal's. Now let's see what happens with the adjacency matrix version of Prim's algorithm:"
   ]
  },
  {
   "cell_type": "code",
   "execution_count": 34,
   "metadata": {},
   "outputs": [],
   "source": [
    "def prim_adjmatrix(adj):\n",
    "    '''\n",
    "        Given:\n",
    "            adj, an adjacency matrix for an undirected network\n",
    "        Return:\n",
    "            mst, a spanning collection of edges (i.e., the edges of the minimum spanning tree)\n",
    "            mst_weight, the total weight of the minimum spanning tree\n",
    "    '''\n",
    "    \n",
    "    # initialize \"set of edges\" and vertices\n",
    "    adj_matrix = adj.copy()\n",
    "    vertices = list(range(len(adj_matrix)))\n",
    "    \n",
    "    # initialize tree vertices and edges as empty and with zero weight\n",
    "    F = []\n",
    "    mst = []\n",
    "    mst_weight = 0\n",
    "    \n",
    "    # select at random an initial vertex to remove and then add to the tree\n",
    "    init_vert = np.random.choice(vertices,1)[0]\n",
    "    F.append(init_vert)\n",
    "    vertices.remove(init_vert)\n",
    "    \n",
    "    # while there are still vertices to remove and then add to the tree\n",
    "    while vertices:\n",
    "        # find the minimum weight edge to a vertex outside the current tree, add it to the tree and remove from vertex set\n",
    "        min_weight_edge = np.unravel_index(np.where(adj_matrix[F,:] != 0, adj_matrix[F,:], np.inf).argmin(), adj_matrix[F,:].shape)        \n",
    "        F.append(min_weight_edge[1])\n",
    "        vertices.remove(min_weight_edge[1])\n",
    "        \n",
    "        # add minimum weight edge to tree\n",
    "        mst.append((F[min_weight_edge[0]], min_weight_edge[1]))\n",
    "        mst_weight += adj_matrix[F[min_weight_edge[0]], min_weight_edge[1]]\n",
    "        \n",
    "        # remove minimum weight edge from list of edges\n",
    "        adj_matrix[F[min_weight_edge[0]], min_weight_edge[1]] = 0\n",
    "        adj_matrix[min_weight_edge[1], F[min_weight_edge[0]]] = 0\n",
    "        \n",
    "        # remove all other edges connecting current tree to added vertex, from list of edges \n",
    "        F = sorted(F)\n",
    "        mst_poss_edges = itertools.combinations(F, 2)\n",
    "        edges_make_ineligible = [b for b in mst_poss_edges if adj_matrix[b[0], b[1]] != 0]\n",
    "        for edge in edges_make_ineligible:\n",
    "            adj_matrix[edge[0], edge[1]] = 0\n",
    "            adj_matrix[edge[1], edge[0]] = 0\n",
    "            \n",
    "    return mst, mst_weight"
   ]
  },
  {
   "cell_type": "code",
   "execution_count": 35,
   "metadata": {},
   "outputs": [
    {
     "name": "stdout",
     "output_type": "stream",
     "text": [
      "[(0, 3), (3, 5), (0, 1), (1, 4), (4, 2), (4, 6)]\n",
      "39.0\n"
     ]
    }
   ],
   "source": [
    "mst_prim2, mst_prim_weight2 = prim_adjmatrix(adj)\n",
    "print(mst_prim2)\n",
    "print(mst_prim_weight2)"
   ]
  },
  {
   "cell_type": "markdown",
   "metadata": {},
   "source": [
    "Again, we get the same minimum spanning tree!"
   ]
  },
  {
   "cell_type": "markdown",
   "metadata": {},
   "source": [
    "### Another Example"
   ]
  },
  {
   "cell_type": "markdown",
   "metadata": {},
   "source": [
    "Now let's just work through another example network, first represented as an edge list and then transformed into a adjacency matrix using `make_adjmatrix_from_edgelist` from `network_flows.py`:"
   ]
  },
  {
   "cell_type": "code",
   "execution_count": 36,
   "metadata": {},
   "outputs": [
    {
     "data": {
      "text/plain": [
       "[0, 1, 2, 3, 4, 5, 6, 7, 8]"
      ]
     },
     "execution_count": 36,
     "metadata": {},
     "output_type": "execute_result"
    }
   ],
   "source": [
    "edges2 = {\n",
    "    (0, 1): 4,\n",
    "    (0, 7): 8,\n",
    "    (1, 2): 8,\n",
    "    (1, 7): 11,\n",
    "    (2, 3): 7,\n",
    "    (2, 5): 4,\n",
    "    (2, 8): 2,\n",
    "    (3, 4): 9,\n",
    "    (3, 5): 14,\n",
    "    (4, 5): 10,\n",
    "    (5, 6): 2,\n",
    "    (6, 7): 1,\n",
    "    (6, 8): 6,\n",
    "    (7, 8): 7\n",
    "}\n",
    "vertices2 = list(range(9))\n",
    "vertices2"
   ]
  },
  {
   "cell_type": "code",
   "execution_count": 37,
   "metadata": {},
   "outputs": [
    {
     "name": "stdout",
     "output_type": "stream",
     "text": [
      "True\n"
     ]
    },
    {
     "data": {
      "text/plain": [
       "array([[ 0.,  4.,  0.,  0.,  0.,  0.,  0.,  8.,  0.],\n",
       "       [ 4.,  0.,  8.,  0.,  0.,  0.,  0., 11.,  0.],\n",
       "       [ 0.,  8.,  0.,  7.,  0.,  4.,  0.,  0.,  2.],\n",
       "       [ 0.,  0.,  7.,  0.,  9., 14.,  0.,  0.,  0.],\n",
       "       [ 0.,  0.,  0.,  9.,  0., 10.,  0.,  0.,  0.],\n",
       "       [ 0.,  0.,  4., 14., 10.,  0.,  2.,  0.,  0.],\n",
       "       [ 0.,  0.,  0.,  0.,  0.,  2.,  0.,  1.,  6.],\n",
       "       [ 8., 11.,  0.,  0.,  0.,  0.,  1.,  0.,  7.],\n",
       "       [ 0.,  0.,  2.,  0.,  0.,  0.,  6.,  7.,  0.]])"
      ]
     },
     "execution_count": 37,
     "metadata": {},
     "output_type": "execute_result"
    }
   ],
   "source": [
    "adj2 = make_adjmatrix_from_edgelist(len(vertices2), edges2, directed=False)\n",
    "print(np.allclose(adj2, adj2.T, rtol=1e-6, atol=1e-6))\n",
    "adj2"
   ]
  },
  {
   "cell_type": "markdown",
   "metadata": {},
   "source": [
    "So we've now created a new network as a list of edges (and vertices) and created a valid (symmetric) adjacency matrix out of it. Let's now use `NetworkX` to draw this network and find and draw its minimum spanning tree:"
   ]
  },
  {
   "cell_type": "code",
   "execution_count": 38,
   "metadata": {},
   "outputs": [
    {
     "data": {
      "image/png": "[encoded data removed]",
      "text/plain": [
       "<Figure size 432x288 with 1 Axes>"
      ]
     },
     "metadata": {},
     "output_type": "display_data"
    }
   ],
   "source": [
    "# Create graph object and populate edges (and by extension vertices/nodes) from our edgelist \n",
    "G2 = nx.Graph()\n",
    "G2.add_weighted_edges_from([(k[0], k[1], v) for k,v in edges2.items()])\n",
    "\n",
    "# Specify positions of each node we will use to draw the network graph\n",
    "G2.nodes[0]['pos'] = (0, 0)\n",
    "G2.nodes[1]['pos'] = (2, 2)\n",
    "G2.nodes[2]['pos'] = (4, 2)\n",
    "G2.nodes[3]['pos'] = (6, 2)\n",
    "G2.nodes[4]['pos'] = (8, 0)\n",
    "G2.nodes[5]['pos'] = (6, -2)\n",
    "G2.nodes[6]['pos'] = (4, -2)\n",
    "G2.nodes[7]['pos'] = (2, -2)\n",
    "G2.nodes[8]['pos'] = (4, 0)\n",
    "\n",
    "# Get minimum spanning tree\n",
    "mst_nx2 = nx.minimum_spanning_tree(G2)\n",
    "\n",
    "# Draw the network (first its topology, then vertex and vertex labels, then edge labels)\n",
    "node_pos = nx.get_node_attributes(G2,'pos')\n",
    "edge_weight = nx.get_edge_attributes(G1, 'weight')\n",
    "nx.draw(G2, node_pos, node_color='white', edge_color=['red' if e in mst_nx2.edges() else 'black' for e in G2.edges()])\n",
    "nx.draw_networkx_nodes(G2, node_pos, node_color='white', node_size=1000, edgecolors='black')\n",
    "nx.draw_networkx_labels(G2, node_pos)\n",
    "nx.draw_networkx_edge_labels(G2, node_pos, edge_labels=edge_weight)\n",
    "plt.ylim([-2.5, 2.5])\n",
    "plt.axis('off')\n",
    "plt.show()"
   ]
  },
  {
   "cell_type": "markdown",
   "metadata": {},
   "source": [
    "Now let's see what we get with Prim's algorithm:"
   ]
  },
  {
   "cell_type": "code",
   "execution_count": 40,
   "metadata": {},
   "outputs": [
    {
     "data": {
      "text/plain": [
       "([(0, 1), (0, 7), (6, 7), (5, 6), (2, 5), (2, 8), (2, 3), (3, 4)], 37)"
      ]
     },
     "execution_count": 40,
     "metadata": {},
     "output_type": "execute_result"
    }
   ],
   "source": [
    "prim_edgelist(edges2, vertices2)"
   ]
  },
  {
   "cell_type": "code",
   "execution_count": 46,
   "metadata": {},
   "outputs": [
    {
     "data": {
      "text/plain": [
       "([(3, 2), (2, 8), (2, 5), (5, 6), (6, 7), (2, 1), (1, 0), (3, 4)], 37.0)"
      ]
     },
     "execution_count": 46,
     "metadata": {},
     "output_type": "execute_result"
    }
   ],
   "source": [
    "prim_adjmatrix(adj2)"
   ]
  },
  {
   "cell_type": "markdown",
   "metadata": {},
   "source": [
    "And with Kruskal's algorithm:"
   ]
  },
  {
   "cell_type": "code",
   "execution_count": 47,
   "metadata": {},
   "outputs": [
    {
     "data": {
      "text/plain": [
       "([(6, 7), (2, 8), (5, 6), (0, 1), (2, 5), (2, 3), (0, 7), (3, 4)], 37)"
      ]
     },
     "execution_count": 47,
     "metadata": {},
     "output_type": "execute_result"
    }
   ],
   "source": [
    "kruskal_edgelist(edges2, vertices2)"
   ]
  },
  {
   "cell_type": "code",
   "execution_count": 48,
   "metadata": {},
   "outputs": [
    {
     "data": {
      "text/plain": [
       "([(6, 7), (2, 8), (5, 6), (0, 1), (2, 5), (2, 3), (0, 7), (3, 4)], 37.0)"
      ]
     },
     "execution_count": 48,
     "metadata": {},
     "output_type": "execute_result"
    }
   ],
   "source": [
    "kruskal_adjmatrix(adj2)"
   ]
  },
  {
   "cell_type": "markdown",
   "metadata": {},
   "source": [
    "Looks like everything checks out -- and now we're done."
   ]
  }
 ],
 "metadata": {
  "kernelspec": {
   "display_name": "Python 3",
   "language": "python",
   "name": "python3"
  },
  "language_info": {
   "codemirror_mode": {
    "name": "ipython",
    "version": 3
   },
   "file_extension": ".py",
   "mimetype": "text/x-python",
   "name": "python",
   "nbconvert_exporter": "python",
   "pygments_lexer": "ipython3",
   "version": "3.6.4"
  }
 },
 "nbformat": 4,
 "nbformat_minor": 2
}
